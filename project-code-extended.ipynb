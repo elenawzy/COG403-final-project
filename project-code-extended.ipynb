{
 "cells": [
  {
   "cell_type": "code",
   "execution_count": 1,
   "id": "f9864fae",
   "metadata": {},
   "outputs": [],
   "source": [
    "import matplotlib.pyplot as plt\n",
    "import numpy as np\n",
    "import pandas as pd\n",
    "import math\n",
    "import os\n",
    "import random"
   ]
  },
  {
   "cell_type": "markdown",
   "id": "f0e5306a",
   "metadata": {},
   "source": [
    "This file containts the same calculations and graphing as project-code, but this time we are using 32 parameters (added nieces and nephews)"
   ]
  },
  {
   "cell_type": "markdown",
   "id": "10c67b92",
   "metadata": {},
   "source": [
    "Constants"
   ]
  },
  {
   "cell_type": "code",
   "execution_count": 2,
   "id": "95c3eb8f",
   "metadata": {},
   "outputs": [],
   "source": [
    "male_ego_parameters = [\"mMM\", \"mMF\", \"mFM\", \"mFF\", \n",
    "\"mMyZ\", \"mMyB\", \"mM\", \"mMeZ\", \"mMeB\", \"mFyZ\", \"mFyB\", \"mF\", \"mFeZ\", \"mFeB\",\n",
    "\"myZ\", \"myB\", \"meZ\", \"meB\", \n",
    " \"mD\", \"mS\", \n",
    "\"myZD\", \"myZS\", \"myBD\", \"myBS\", \"meZD\", \"meZS\", \"meBD\", \"meBS\",\n",
    " \"mDD\", \"mDS\", \"mSD\", \"mSS\"]\n",
    "female_ego_parameters = [\"fMM\", \"fMF\", \"fFM\", \"fFF\", \n",
    "\"fMyZ\", \"fMyB\", \"fM\", \"fMeZ\", \"fMeB\", \"fFyZ\", \"fFyB\", \"fF\", \"fFeZ\", \"fFeB\",\n",
    "\"fyZ\", \"fyB\", \"feZ\", \"feB\", \n",
    " \"fD\", \"fS\", \n",
    "\"fyZD\", \"fyZS\", \"fyBD\", \"fyBS\", \"feZD\", \"feZS\", \"feBD\", \"feBS\",\n",
    " \"fDD\", \"fDS\", \"fSD\", \"fSS\"]"
   ]
  },
  {
   "cell_type": "code",
   "execution_count": 3,
   "id": "3ffc73e9",
   "metadata": {},
   "outputs": [],
   "source": [
    "#language_families = [\"Indo-European\", \"Sino-Tibetan\", \"Algic\", \"Pama-Nyungan\", \"Afro-Asiatic\"]\n",
    "# issue families: Uralic, \n",
    "language_families = ['Salishan', 'Austroasiatic', 'Sino-Tibetan', 'Afro-Asiatic', 'Indo-European', 'Pano-Tacanan', \n",
    "                       'Nuclear Trans New Guinea', 'Pama-Nyungan', \n",
    "                       'Tai-Kadai', 'Other', 'Arawakan', 'Austronesian', 'Algic', 'Cariban', \n",
    "                       'Nakh-Daghestanian', 'Turkic', 'Dravidian', \n",
    "                     'Uto-Aztecan', 'Atlantic-Congo', 'Tupian']\n",
    "#language_families = [\"Afro-Asiatic\"]"
   ]
  },
  {
   "cell_type": "markdown",
   "id": "69a76adf",
   "metadata": {},
   "source": [
    "Filter dataframe into parameters and kinterms and make dictionary"
   ]
  },
  {
   "cell_type": "code",
   "execution_count": 4,
   "id": "d2cdb931",
   "metadata": {},
   "outputs": [],
   "source": [
    "# makes the data frame of parameters, word for the selected parameters for the first source\n",
    "def make_rows(data_frame, ego_parameters):\n",
    "    all_rows = data_frame.loc[data_frame['parameter'].isin(ego_parameters)]\n",
    "    rows = None\n",
    "    if len(all_rows['source_bibtex'].value_counts()) <= 0:\n",
    "        rows = all_rows\n",
    "    else:\n",
    "        most_frequent_source = all_rows['source_bibtex'].value_counts().idxmax()\n",
    "        mask = all_rows['source_bibtex'] == most_frequent_source\n",
    "        rows = all_rows.loc[mask]\n",
    "    return rows"
   ]
  },
  {
   "cell_type": "code",
   "execution_count": 5,
   "id": "89b45576",
   "metadata": {},
   "outputs": [],
   "source": [
    "def make_lang_dict(rows):\n",
    "    parameter_pairs = rows[[\"parameter\", \"word\"]].values.tolist()\n",
    "    lang_dict = {}\n",
    "    for pair in parameter_pairs:\n",
    "        if pair[0] not in lang_dict:\n",
    "            lang_dict[pair[0]] = pair[1]\n",
    "    return lang_dict"
   ]
  },
  {
   "cell_type": "markdown",
   "id": "aba99ac0",
   "metadata": {},
   "source": [
    "Calculate the complexity."
   ]
  },
  {
   "cell_type": "code",
   "execution_count": 6,
   "id": "b1589602",
   "metadata": {},
   "outputs": [],
   "source": [
    "def complexity(female_dict, male_dict):\n",
    "    female_kinwords = len(list(np.unique(list(female_dict.values()))))\n",
    "    male_kinwords = len(list(np.unique(list(male_dict.values()))))\n",
    "    complexity = (female_kinwords + male_kinwords) / 2\n",
    "    return complexity"
   ]
  },
  {
   "cell_type": "markdown",
   "id": "43b95da4",
   "metadata": {},
   "source": [
    "Calculate the informativeness (communicative cost)."
   ]
  },
  {
   "cell_type": "code",
   "execution_count": 7,
   "id": "d3e93fdb",
   "metadata": {},
   "outputs": [],
   "source": [
    "# male_ego_parameters\n",
    "# female_ego_parameters\n",
    "\n",
    "# Need probabilities from English and German Corpus for all female and male\n",
    "pi = [0.014451288, 0.010966314, 0.014451288, 0.010966314,\n",
    "      0.003197676, 0.004767618, 0.291375328, 0.003197676, 0.004767618,\n",
    "      0.003197676, 0.004767618, 0.295423085, 0.003197676, 0.004767618,\n",
    "      0.026383051, 0.034053058, 0.026383051, 0.034053058, \n",
    "      0.088273482, 0.098266616, \n",
    "      0.000674385, 0.000787767, 0.000674385, 0.000787767, 0.000674385, 0.000787767, 0.000674385, 0.000787767, \n",
    "      0.0014217, 0.002206822, 0.0014217, 0.002206822]\n",
    "female_pi = {}\n",
    "male_pi = {}\n",
    "\n",
    "for i, key in enumerate(female_ego_parameters):\n",
    "    female_pi[key] = pi[i]\n",
    "    \n",
    "for i, key in enumerate(male_ego_parameters):\n",
    "    male_pi[key] = pi[i]"
   ]
  },
  {
   "cell_type": "code",
   "execution_count": 8,
   "id": "46b0a446",
   "metadata": {},
   "outputs": [],
   "source": [
    "# Helper Function:\n",
    "def entropy(pi, sum_p):\n",
    "    if sum_p == 0:\n",
    "        return 0\n",
    "    else:\n",
    "        return pi * -math.log2(pi/sum_p)\n",
    "\n",
    "def c_cost(dic, pi):\n",
    "    # Calculate the additional cost c_i in bits for each individual\n",
    "    total = 0\n",
    "    for key, value in dic.items():\n",
    "        pi_num = pi[key]\n",
    "        same_keys = []\n",
    "        for k, v in dic.items():\n",
    "            if v == value:\n",
    "                same_keys.append(k)\n",
    "        pj = sum([pi[i] for i in same_keys])\n",
    "        total += entropy(pi_num, pj)\n",
    "    return total"
   ]
  },
  {
   "cell_type": "code",
   "execution_count": 9,
   "id": "2bc2cc57",
   "metadata": {},
   "outputs": [],
   "source": [
    "def language_c_cost(female_dict, male_dict):\n",
    "    return (c_cost(female_dict, female_pi)+ c_cost(male_dict, male_pi))/2"
   ]
  },
  {
   "cell_type": "markdown",
   "id": "515cc88a",
   "metadata": {},
   "source": [
    "Here, we iterate through the selected language families"
   ]
  },
  {
   "cell_type": "code",
   "execution_count": 10,
   "id": "04c7b655",
   "metadata": {},
   "outputs": [],
   "source": [
    "real_lang_complexities = []\n",
    "real_lang_cc = []\n",
    "\n",
    "for fam in language_families:\n",
    "    path = \"kinbank-master/kinbank/raw/\" + fam\n",
    "    dir_list = os.listdir(path)\n",
    "    for lang in dir_list:\n",
    "        #print(\"kinbank-master/kinbank/raw/\" + fam + \"/\" + lang)\n",
    "        lang_df = pd.read_csv(\"kinbank-master/kinbank/raw/\" + fam + \"/\" + lang, low_memory=False)\n",
    "        female_rows = make_rows(lang_df, female_ego_parameters)\n",
    "        male_rows = make_rows(lang_df, male_ego_parameters)\n",
    "        # check that there are at least 32 parameters\n",
    "        if len(np.unique(female_rows['parameter'].values.tolist())) >= 32 or len(\n",
    "            np.unique(male_rows['parameter'].values.tolist())) >= 32:\n",
    "            female_dict = make_lang_dict(female_rows)\n",
    "            male_dict = make_lang_dict(male_rows)\n",
    "            real_lang_complexities.append(complexity(female_dict, male_dict))\n",
    "            real_lang_cc.append(language_c_cost(female_dict, male_dict))\n",
    "#         print(\"kinbank-master/kinbank/raw/\" + fam + \"/\" + lang)\n",
    "#         print(\"female:\", len(female_rows))\n",
    "#         print(\"male:\", len(male_rows))\n",
    "#         if len(female_rows) == 0:\n",
    "#             print(\"this language has 0 parameters for female\")\n",
    "#         if len(male_rows) == 0:\n",
    "#             print(\"this language has 0 parameters for male\")\n",
    "# print(len(real_lang_complexities), len(real_lang_cc))\n",
    "# print(\"complexities:\", real_lang_complexities)\n",
    "# print(\"communicative costs:\", real_lang_cc)"
   ]
  },
  {
   "cell_type": "markdown",
   "id": "14b15c6d",
   "metadata": {},
   "source": [
    "Here we make new possible language systems"
   ]
  },
  {
   "cell_type": "code",
   "execution_count": 11,
   "id": "36f56939",
   "metadata": {},
   "outputs": [],
   "source": [
    "# function to make a new permutation dictionary\n",
    "def make_perm_dict(perm_kin_params):\n",
    "    max_kinterms = random.randint(1, 32)\n",
    "    perm_dict = {}\n",
    "    for param in perm_kin_params:\n",
    "        perm_dict[param] = random.randint(1, max_kinterms)\n",
    "    return perm_dict\n",
    "make_perm_dict(male_ego_parameters)\n",
    "\n",
    "def make_perm_dict_subset(perm_kin_params):\n",
    "    max_kinterms = random.randint(1, len(perm_kin_params))\n",
    "    perm_dict = {}\n",
    "    for param in perm_kin_params:\n",
    "        perm_dict[param] = random.randint(1, max_kinterms)\n",
    "    return perm_dict"
   ]
  },
  {
   "cell_type": "code",
   "execution_count": 12,
   "id": "4b010422",
   "metadata": {},
   "outputs": [],
   "source": [
    "perm_lang_complexities = []\n",
    "perm_lang_cc = []\n",
    "\n",
    "# do 200 permutations\n",
    "for i in range(10000):\n",
    "    female_perm_dict = make_perm_dict(female_ego_parameters)\n",
    "    male_perm_dict = make_perm_dict(male_ego_parameters)\n",
    "    perm_lang_complexities.append(complexity(female_perm_dict, male_perm_dict))\n",
    "    perm_lang_cc.append(language_c_cost(female_perm_dict, male_perm_dict))\n",
    "    \n",
    "# print(len(perm_lang_cc), len(perm_lang_complexities))\n",
    "# print(\"complexities:\", perm_lang_complexities)\n",
    "# print(\"communicative cost:\", perm_lang_cc)"
   ]
  },
  {
   "cell_type": "code",
   "execution_count": 13,
   "id": "62621d31",
   "metadata": {},
   "outputs": [],
   "source": [
    "# notes\n",
    "\n",
    "# some families might not care about other members, or there is just not enough data"
   ]
  },
  {
   "cell_type": "markdown",
   "id": "c36a3143",
   "metadata": {},
   "source": [
    "Data Visualization"
   ]
  },
  {
   "cell_type": "code",
   "execution_count": 14,
   "id": "94f61d97",
   "metadata": {},
   "outputs": [
    {
     "data": {
      "image/png": "[encoded data removed]",
      "text/plain": [
       "<Figure size 432x288 with 1 Axes>"
      ]
     },
     "metadata": {
      "needs_background": "light"
     },
     "output_type": "display_data"
    }
   ],
   "source": [
    "# Complexity vs Communicative cost for all selected langauge families\n",
    "\n",
    "\n",
    "# Create a scatterplot\n",
    "plt.scatter(perm_lang_complexities, perm_lang_cc, alpha = 0.3,  label='Permuted Language', color = \"gray\")\n",
    "# Special Language\n",
    "\n",
    "# Overlaying\n",
    "plt.scatter(real_lang_complexities, real_lang_cc, alpha = 0.3, label='Real Language', color = \"red\")\n",
    "\n",
    "\n",
    "# Add a title and axis labels\n",
    "plt.title('Complexity vs. Communicative Cost')\n",
    "plt.xlabel('complexity')\n",
    "plt.ylabel('communicative cost')\n",
    "\n",
    "# Add a legend\n",
    "plt.legend()\n",
    "\n",
    "# Show the plot\n",
    "plt.show()\n"
   ]
  },
  {
   "cell_type": "markdown",
   "id": "04674c19",
   "metadata": {},
   "source": [
    "Optimality analyses for six subsets of the full family tree."
   ]
  },
  {
   "cell_type": "code",
   "execution_count": 15,
   "id": "923108ba",
   "metadata": {},
   "outputs": [],
   "source": [
    "# Subsets\n",
    "\n",
    "## grandparents\n",
    "    \n",
    "female_grandparents_parameters = [\"fMM\", \"fMF\", \"fFM\", \"fFF\"]\n",
    "male_grandparents_parameters = [\"mMM\", \"mMF\", \"mFM\", \"mFF\"]\n",
    "\n",
    "## parents\n",
    "\n",
    "female_parents = [\"fM\", \"fF\"]\n",
    "male_parents = [\"mM\", \"mF\"]\n",
    "\n",
    "## childern\n",
    "\n",
    "female_children =  [\"fD\", \"fS\"]\n",
    "male_children =  [\"mD\", \"mS\"]\n",
    "\n",
    "## grandchildren\n",
    "\n",
    "female_grandchildren_parameters = [\"fDD\", \"fDS\", \"fSD\", \"fSS\"]\n",
    "male_grandchildren_parameters = [\"mDD\", \"mDS\", \"mSD\", \"mSS\"]\n",
    "\n",
    "## siblings\n",
    "\n",
    "female_siblings =  [\"fyZ\", \"fyB\", \"feZ\", \"feB\"]\n",
    "male_siblings =  [\"myZ\", \"myB\", \"meZ\", \"meB\"]\n",
    "\n",
    "## mother+aunt\n",
    "\n",
    "female_mother_aunt =  [\"fMyZ\",\"fM\", \"fMeZ\", \"fFyZ\", \"fFeZ\"]\n",
    "male_mother_aunt =  [\"mMyZ\",\"mM\", \"mMeZ\", \"mFyZ\", \"mFeZ\"]\n",
    "\n",
    "## father+uncle\n",
    "\n",
    "female_father_uncle =  [\"fMyB\",\"fMeB\", \"fFyB\", \"fF\", \"fFeB\"]\n",
    "male_father_uncle =  [\"mMyB\",\"mMeB\", \"mFyB\", \"mF\", \"mFeB\"]"
   ]
  },
  {
   "cell_type": "code",
   "execution_count": 16,
   "id": "8af0d058",
   "metadata": {},
   "outputs": [],
   "source": [
    "# Helper Function:\n",
    "\n",
    "def iteration_com_cc(real_lang_complexities, real_lang_cc, female_ego_parameters, male_ego_parameters):\n",
    "    for fam in language_families:\n",
    "        path = \"kinbank-master/kinbank/raw/\" + fam\n",
    "        dir_list = os.listdir(path)\n",
    "        for lang in dir_list:\n",
    "            #print(\"kinbank-master/kinbank/raw/\" + fam + \"/\" + lang)\n",
    "            lang_df = pd.read_csv(\"kinbank-master/kinbank/raw/\" + fam + \"/\" + lang, low_memory=False)\n",
    "            female_rows = make_rows(lang_df, female_ego_parameters)\n",
    "            male_rows = make_rows(lang_df, male_ego_parameters)\n",
    "            # check that there are at least 32 parameters\n",
    "            if len(np.unique(female_rows['parameter'].values.tolist())) >= len(female_ego_parameters) or len(\n",
    "                np.unique(male_rows['parameter'].values.tolist())) >= len(female_ego_parameters):\n",
    "                female_dict = make_lang_dict(female_rows)\n",
    "                male_dict = make_lang_dict(male_rows)\n",
    "                real_lang_complexities.append(complexity(female_dict, male_dict))\n",
    "                real_lang_cc.append(language_c_cost(female_dict, male_dict))\n",
    "                \n",
    "def permutation_subset(perm_lang_complexities, perm_lang_cc, female_ego_parameters, male_ego_parameters):\n",
    "    # do 1000 permutations\n",
    "    for i in range(1000):\n",
    "        female_perm_dict = make_perm_dict_subset(female_ego_parameters)\n",
    "        male_perm_dict = make_perm_dict_subset(male_ego_parameters)\n",
    "        perm_lang_complexities.append(complexity(female_perm_dict, male_perm_dict))\n",
    "        perm_lang_cc.append(language_c_cost(female_perm_dict, male_perm_dict))"
   ]
  },
  {
   "cell_type": "code",
   "execution_count": 17,
   "id": "0e2611b9",
   "metadata": {},
   "outputs": [],
   "source": [
    "# real langauge\n",
    "\n",
    "grandparents_complexities = []\n",
    "grandparents_cc = []\n",
    "g_perm_com = []\n",
    "g_perm_cc = []\n",
    "\n",
    "\n",
    "siblings_complexities = []\n",
    "siblings_cc = []\n",
    "si_perm_com = []\n",
    "si_perm_cc = []\n",
    "\n",
    "mother_aunt_complexities = []\n",
    "mother_aunt_cc = []\n",
    "ma_perm_com = []\n",
    "ma_perm_cc = []\n",
    "\n",
    "father_uncle_complexities = []\n",
    "father_uncle_cc = []\n",
    "fu_perm_com = []\n",
    "fu_perm_cc = []\n",
    "\n",
    "# real data\n",
    "iteration_com_cc(grandparents_complexities, grandparents_cc,female_grandparents_parameters, male_grandparents_parameters )\n",
    "iteration_com_cc(siblings_complexities,siblings_cc,female_siblings, male_siblings)\n",
    "iteration_com_cc(mother_aunt_complexities,mother_aunt_cc,female_mother_aunt, male_mother_aunt)\n",
    "iteration_com_cc(father_uncle_complexities,father_uncle_cc,female_father_uncle, male_father_uncle)\n",
    "\n",
    "\n",
    "# permuted data\n",
    "permutation_subset(g_perm_com, g_perm_cc,female_grandparents_parameters, male_grandparents_parameters )\n",
    "permutation_subset(si_perm_com ,si_perm_cc,female_siblings, male_siblings)\n",
    "permutation_subset(ma_perm_com,ma_perm_cc,female_mother_aunt, male_mother_aunt)\n",
    "permutation_subset(fu_perm_com,fu_perm_cc,female_father_uncle, male_father_uncle)"
   ]
  },
  {
   "cell_type": "code",
   "execution_count": 18,
   "id": "1f7f050d",
   "metadata": {},
   "outputs": [],
   "source": [
    "# Create a 2D histogram of the data\n",
    "def create_2D(x, y):\n",
    "    hist, xedges, yedges = np.histogram2d(x, y, bins=7)\n",
    "    xidx = np.clip(np.digitize(x, xedges), 0, hist.shape[0]-1)\n",
    "    yidx = np.clip(np.digitize(y, yedges), 0, hist.shape[1]-1)\n",
    "    return hist[xidx, yidx]"
   ]
  },
  {
   "cell_type": "code",
   "execution_count": 19,
   "id": "127afd5f",
   "metadata": {},
   "outputs": [
    {
     "data": {
      "image/png": "[encoded data removed]",
      "text/plain": [
       "<Figure size 432x288 with 1 Axes>"
      ]
     },
     "metadata": {
      "needs_background": "light"
     },
     "output_type": "display_data"
    }
   ],
   "source": [
    "# Complexity vs Communicative cost for family member subsets\n",
    "\n",
    "# Define the size of the dots based on the counts\n",
    "sizes = create_2D(grandparents_complexities, grandparents_cc) * 1.2\n",
    "\n",
    "\n",
    "# Create a scatterplot\n",
    "plt.scatter(g_perm_com, g_perm_cc, alpha = 0.3,  label='Permuted Language', color = \"gray\")\n",
    "# Overlaying\n",
    "plt.scatter(grandparents_complexities, grandparents_cc, alpha = 0.3, label='Real Language', color = \"red\", s = sizes)\n",
    "\n",
    "\n",
    "\n",
    "# Add a title and axis labels\n",
    "plt.title('Grandparents')\n",
    "plt.xlabel('complexity')\n",
    "plt.ylabel('communicative cost')\n",
    "\n",
    "# Add a legend\n",
    "plt.legend()\n",
    "\n",
    "# Show the plot\n",
    "plt.show()"
   ]
  },
  {
   "cell_type": "code",
   "execution_count": 20,
   "id": "8649057b",
   "metadata": {},
   "outputs": [
    {
     "data": {
      "image/png": "[encoded data removed]",
      "text/plain": [
       "<Figure size 432x288 with 1 Axes>"
      ]
     },
     "metadata": {
      "needs_background": "light"
     },
     "output_type": "display_data"
    }
   ],
   "source": [
    "# Define the size of the dots based on the counts\n",
    "sizes = create_2D(siblings_complexities, siblings_cc) * 1.2\n",
    "\n",
    "\n",
    "# Create a scatterplot\n",
    "plt.scatter(si_perm_com, si_perm_cc, alpha = 0.3,  label='Permuted Language', color = \"gray\")\n",
    "# Overlaying\n",
    "plt.scatter(siblings_complexities, siblings_cc, alpha = 0.3, label='Real Language', color = \"red\", s = sizes)\n",
    "\n",
    "\n",
    "\n",
    "# Add a title and axis labels\n",
    "plt.title('Siblings')\n",
    "plt.xlabel('complexity')\n",
    "plt.ylabel('communicative cost')\n",
    "\n",
    "# Add a legend\n",
    "plt.legend()\n",
    "\n",
    "# Show the plot\n",
    "plt.show()"
   ]
  },
  {
   "cell_type": "code",
   "execution_count": 21,
   "id": "23e00f72",
   "metadata": {},
   "outputs": [
    {
     "data": {
      "image/png": "[encoded data removed]",
      "text/plain": [
       "<Figure size 432x288 with 1 Axes>"
      ]
     },
     "metadata": {
      "needs_background": "light"
     },
     "output_type": "display_data"
    }
   ],
   "source": [
    "# Define the size of the dots based on the counts\n",
    "sizes = create_2D(mother_aunt_complexities, mother_aunt_cc) * 1.2\n",
    "\n",
    "\n",
    "# Create a scatterplot\n",
    "plt.scatter(ma_perm_com, ma_perm_cc, alpha = 0.3,  label='Permuted Language', color = \"gray\")\n",
    "# Overlaying\n",
    "plt.scatter(mother_aunt_complexities, mother_aunt_cc, alpha = 0.3, label='Real Language', color = \"red\", s = sizes)\n",
    "\n",
    "\n",
    "\n",
    "# Add a title and axis labels\n",
    "plt.title('Mother+Aunts')\n",
    "plt.xlabel('complexity')\n",
    "plt.ylabel('communicative cost')\n",
    "\n",
    "# Add a legend\n",
    "plt.legend()\n",
    "\n",
    "# Show the plot\n",
    "plt.show()"
   ]
  },
  {
   "cell_type": "code",
   "execution_count": 22,
   "id": "bdd54409",
   "metadata": {},
   "outputs": [
    {
     "data": {
      "image/png": "[encoded data removed]",
      "text/plain": [
       "<Figure size 432x288 with 1 Axes>"
      ]
     },
     "metadata": {
      "needs_background": "light"
     },
     "output_type": "display_data"
    }
   ],
   "source": [
    "# Define the size of the dots based on the counts\n",
    "sizes = create_2D(father_uncle_complexities, father_uncle_cc) * 1.2\n",
    "\n",
    "\n",
    "# Create a scatterplot\n",
    "plt.scatter(fu_perm_com, fu_perm_cc, alpha = 0.3,  label='Permuted Language', color = \"gray\")\n",
    "# Overlaying\n",
    "plt.scatter(father_uncle_complexities, father_uncle_cc, alpha = 0.3, label='Real Language', color = \"red\", s = sizes)\n",
    "\n",
    "\n",
    "\n",
    "# Add a title and axis labels\n",
    "plt.title('Father+Uncles')\n",
    "plt.xlabel('complexity')\n",
    "plt.ylabel('communicative cost')\n",
    "\n",
    "# Add a legend\n",
    "plt.legend()\n",
    "\n",
    "# Show the plot\n",
    "plt.show()"
   ]
  }
 ],
 "metadata": {
  "kernelspec": {
   "display_name": "Python 3 (ipykernel)",
   "language": "python",
   "name": "python3"
  },
  "language_info": {
   "codemirror_mode": {
    "name": "ipython",
    "version": 3
   },
   "file_extension": ".py",
   "mimetype": "text/x-python",
   "name": "python",
   "nbconvert_exporter": "python",
   "pygments_lexer": "ipython3",
   "version": "3.9.12"
  }
 },
 "nbformat": 4,
 "nbformat_minor": 5
}
